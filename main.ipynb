{
 "cells": [
  {
   "cell_type": "code",
   "execution_count": 1,
   "metadata": {},
   "outputs": [],
   "source": [
    "import numpy as np"
   ]
  },
  {
   "cell_type": "code",
   "execution_count": 55,
   "metadata": {},
   "outputs": [],
   "source": [
    "def rbm_phi(s, a, b, W):\n",
    "    c = np.dot(a, s)\n",
    "    d = 1\n",
    "    for i in range(len(b)):\n",
    "        d *= 2 * np.cosh(b[i] + np.dot(W[i], s))\n",
    "        \n",
    "\n",
    "    return np.exp(c) * d\n",
    "\n",
    "\n",
    "def rbm_phi_flat(s, a, b, W):\n",
    "    W = np.reshape(W, (len(b), len(s)))\n",
    "    return rbm_phi(s, a, b, W)"
   ]
  },
  {
   "cell_type": "code",
   "execution_count": 12,
   "metadata": {},
   "outputs": [],
   "source": [
    "def o_der_a(s, a, b, W):\n",
    "    return s"
   ]
  },
  {
   "cell_type": "code",
   "execution_count": 13,
   "metadata": {},
   "outputs": [],
   "source": [
    "def o_der_b(s, a, b, W):\n",
    "    return np.array([np.tanh(b[i] + np.dot(W[i], s)) for i in range(len(b))])"
   ]
  },
  {
   "cell_type": "code",
   "execution_count": 33,
   "metadata": {},
   "outputs": [],
   "source": [
    "def o_der_W(s, a, b, W):\n",
    "    return np.array([[s[k] * np.tanh(b[i] + np.dot(W[i], s)) for k in range(len(W[0]))] for i in range(len(W))])\n"
   ]
  },
  {
   "cell_type": "code",
   "execution_count": 59,
   "metadata": {},
   "outputs": [],
   "source": [
    "# Let's text the derivative functions by comparing them to finite difference approximations.\n",
    "\n",
    "def finite_diff(f, x, i, h):\n",
    "    return (f(x + h * np.eye(len(x))[i]) - f(x - h * np.eye(len(x))[i])) / (2 * h)\n",
    "\n",
    "def finite_diff_grad(f, x, h):\n",
    "    return np.array([finite_diff(f, x, i, h) for i in range(len(x))])\n",
    "\n",
    "def test_derivatives():\n",
    "    a = np.array([0.1, 0.2])\n",
    "    b = np.array([0.3, 0.4])\n",
    "    W = np.array([[0.5, 0.6], [0.7, 0.8]])\n",
    "    s = np.array([1, 0])\n",
    "\n",
    "\n",
    "    print(\"RBM values:\")\n",
    "    print(rbm_phi(s, a, b, W))\n",
    "\n",
    "\n",
    "    h = 1e-6\n",
    "    print(\"Analytical derivatives:\")\n",
    "    print(o_der_a(s, a, b, W)*rbm_phi(s, a, b, W))\n",
    "    print(o_der_b(s, a, b, W)*rbm_phi(s, a, b, W))\n",
    "    print(o_der_W(s, a, b, W)*rbm_phi(s, a, b, W).flatten())\n",
    "\n",
    "    print(\"Finite difference derivatives:\")\n",
    "    print(finite_diff_grad(lambda x: rbm_phi(s, x, b, W), a, h))\n",
    "    print(finite_diff_grad(lambda x: rbm_phi(s, a, x, W), b, h))\n",
    "    print(finite_diff_grad(lambda x: rbm_phi_flat(s, a, b, x), W.flatten(), h))\n",
    "\n"
   ]
  },
  {
   "cell_type": "code",
   "execution_count": 60,
   "metadata": {},
   "outputs": [
    {
     "name": "stdout",
     "output_type": "stream",
     "text": [
      "RBM values:\n",
      "9.864910437871492\n",
      "Analytical derivatives:\n",
      "[9.86491044 0.        ]\n",
      "[6.55066327 7.89685116]\n",
      "[[6.55066327 0.        ]\n",
      " [7.89685116 0.        ]]\n",
      "Finite difference derivatives:\n",
      "[9.86491044 0.        ]\n",
      "[6.55066327 7.89685115]\n",
      "[6.55066327 0.         7.89685115 0.        ]\n"
     ]
    }
   ],
   "source": [
    "test_derivatives()"
   ]
  },
  {
   "cell_type": "code",
   "execution_count": 65,
   "metadata": {},
   "outputs": [],
   "source": [
    "def rbm_phi_theta(s, theta):\n",
    "    n = len(s)\n",
    "    m = len(theta)//(n+1) - 1\n",
    "    a = theta[:n]\n",
    "    b = theta[n:n+m]\n",
    "    W = np.reshape(theta[n+m:], (n, m))\n",
    "    return rbm_phi(s, a, b, W)\n",
    "\n",
    "def o_der_theta(s, theta):\n",
    "    n = len(s)\n",
    "    m = len(theta)//(n+1) - 1\n",
    "    a = theta[:n]\n",
    "    b = theta[n:n+m]\n",
    "    W = np.reshape(theta[n+m:], (n, m))\n",
    "    return np.concatenate([o_der_a(s, a, b, W), o_der_b(s, a, b, W), o_der_W(s, a, b, W).flatten()])\n",
    "\n",
    "\n"
   ]
  },
  {
   "cell_type": "code",
   "execution_count": null,
   "metadata": {},
   "outputs": [],
   "source": [
    "def create_random_state(N, M):\n",
    "    s = np.random.randint(0, 2, N)\n",
    "    a = np.random.rand(N)\n",
    "    b = np.random.rand(M)\n",
    "    W = np.random.rand(N, M)\n",
    "\n",
    "    return s, a, b, W\n",
    "\n",
    "random_s, random_a, random_b, random_W = create_random_state(2, 2)\n",
    "random_theta = np.concatenate([random_a, random_b, random_W.flatten()])\n"
   ]
  },
  {
   "cell_type": "code",
   "execution_count": null,
   "metadata": {},
   "outputs": [],
   "source": [
    "def loss(theta, s):\n",
    "    return np.sum(0.5 * (rbm_phi_theta(s, theta) - )**2)"
   ]
  },
  {
   "cell_type": "code",
   "execution_count": 63,
   "metadata": {},
   "outputs": [
    {
     "ename": "ValueError",
     "evalue": "setting an array element with a sequence. The requested array has an inhomogeneous shape after 2 dimensions. The detected shape was (4, 2) + inhomogeneous part.",
     "output_type": "error",
     "traceback": [
      "\u001b[1;31m---------------------------------------------------------------------------\u001b[0m",
      "\u001b[1;31mValueError\u001b[0m                                Traceback (most recent call last)",
      "Cell \u001b[1;32mIn[63], line 1\u001b[0m\n\u001b[1;32m----> 1\u001b[0m theta \u001b[38;5;241m=\u001b[39m np\u001b[38;5;241m.\u001b[39marray(create_random_state(\u001b[38;5;241m2\u001b[39m, \u001b[38;5;241m2\u001b[39m))\n\u001b[0;32m      2\u001b[0m \u001b[38;5;28mprint\u001b[39m(theta)\n",
      "\u001b[1;31mValueError\u001b[0m: setting an array element with a sequence. The requested array has an inhomogeneous shape after 2 dimensions. The detected shape was (4, 2) + inhomogeneous part."
     ]
    }
   ],
   "source": [
    "\n",
    "\n",
    "def gradian_descent(s, theta, learning_rate, max_iter):\n",
    "    for i in range(max_iter):\n",
    "        theta -= learning_rate * o_der_theta(s, theta)\n",
    "    return theta"
   ]
  }
 ],
 "metadata": {
  "kernelspec": {
   "display_name": "base",
   "language": "python",
   "name": "python3"
  },
  "language_info": {
   "codemirror_mode": {
    "name": "ipython",
    "version": 3
   },
   "file_extension": ".py",
   "mimetype": "text/x-python",
   "name": "python",
   "nbconvert_exporter": "python",
   "pygments_lexer": "ipython3",
   "version": "3.11.3"
  }
 },
 "nbformat": 4,
 "nbformat_minor": 2
}
